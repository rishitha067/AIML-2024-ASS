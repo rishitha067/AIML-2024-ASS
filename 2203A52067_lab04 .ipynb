{
 "cells": [
  {
   "cell_type": "code",
   "execution_count": 1,
   "metadata": {},
   "outputs": [
    {
     "name": "stdout",
     "output_type": "stream",
     "text": [
      "The optimal value is : 4\n"
     ]
    }
   ],
   "source": [
    "def minmax(depth, node_index, maximizing_player, values):\n",
    "    if depth == 3:\n",
    "        return values[node_index]\n",
    "\n",
    "    if maximizing_player:\n",
    "        return max(minmax(depth + 1, node_index * 2, False, values),\n",
    "                   minmax(depth + 1, node_index * 2 + 1, False, values))\n",
    "    else:\n",
    "        return min(minmax(depth + 1, node_index * 2, True, values),\n",
    "                   minmax(depth + 1, node_index * 2 + 1, True, values))\n",
    "\n",
    "values = [-1 ,4 ,2 ,6 ,-3 ,-5 ,0 ,7]\n",
    "print(\"The optimal value is :\", minmax(0 ,0 ,True ,values))"
   ]
  },
  {
   "cell_type": "code",
   "execution_count": 2,
   "metadata": {},
   "outputs": [
    {
     "name": "stdout",
     "output_type": "stream",
     "text": [
      "The optimal value is: 4\n",
      "The corresponding action index is: 2\n"
     ]
    }
   ],
   "source": [
    "def minimax_alpha_beta(depth, node_index, maximizing_player, values, alpha=-float(\"inf\"), beta=float(\"inf\"), plagiarism=False):\n",
    "  \"\"\"\n",
    "  Minimax with alpha-beta pruning implementation for a binary tree.\n",
    "\n",
    "  Args:\n",
    "      depth: The current depth in the tree.\n",
    "      node_index: The index of the current node in the values array.\n",
    "      maximizing_player: True if the current player is the maximizer, False if the minimizer.\n",
    "      values: An array containing the values of all nodes in the tree.\n",
    "      alpha: The alpha value for pruning.\n",
    "      beta: The beta value for pruning.\n",
    "      plagiarism: A flag indicating whether plagiarism has been detected.\n",
    "\n",
    "  Returns:\n",
    "      The minimax value of the current node and the corresponding index.\n",
    "  \"\"\"\n",
    "\n",
    "  if depth == 3 or plagiarism:\n",
    "    return values[node_index], None\n",
    "\n",
    "  if maximizing_player:\n",
    "    value, _ = None, None\n",
    "    for child_index in range(node_index * 2, node_index * 2 + 2):\n",
    "      child_value, _ = minimax_alpha_beta(depth + 1, child_index, False, values, alpha, beta, plagiarism)\n",
    "      if value is None or child_value > value:\n",
    "        value = child_value\n",
    "      alpha = max(alpha, value)\n",
    "      if beta <= alpha:\n",
    "        break\n",
    "\n",
    "    return value, child_index * 2 + (value == child_value)\n",
    "  else:\n",
    "    value, _ = None, None\n",
    "    for child_index in range(node_index * 2, node_index * 2 + 2):\n",
    "      child_value, _ = minimax_alpha_beta(depth + 1, child_index, True, values, alpha, beta, plagiarism)\n",
    "      if value is None or child_value < value:\n",
    "        value = child_value\n",
    "      beta = min(beta, value)\n",
    "      if beta <= alpha:\n",
    "        break\n",
    "\n",
    "    return value, child_index * 2 + (value == child_value)\n",
    "\n",
    "# Example usage\n",
    "values = [-1, 4, 2, 6, -3, -5, 0, 7]\n",
    "plagiarism = False  # Set to True if plagiarism detected\n",
    "\n",
    "optimal_value, action_index = minimax_alpha_beta(0, 0, True, values, plagiarism)\n",
    "\n",
    "print(\"The optimal value is:\", optimal_value)\n",
    "print(\"The corresponding action index is:\", action_index)"
   ]
  }
 ],
 "metadata": {
  "kernelspec": {
   "display_name": "Python 3",
   "language": "python",
   "name": "python3"
  },
  "language_info": {
   "codemirror_mode": {
    "name": "ipython",
    "version": 3
   },
   "file_extension": ".py",
   "mimetype": "text/x-python",
   "name": "python",
   "nbconvert_exporter": "python",
   "pygments_lexer": "ipython3",
   "version": "3.10.13"
  }
 },
 "nbformat": 4,
 "nbformat_minor": 2
}
